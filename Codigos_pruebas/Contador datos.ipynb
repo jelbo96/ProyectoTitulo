{
 "cells": [
  {
   "cell_type": "code",
   "execution_count": 2,
   "metadata": {},
   "outputs": [],
   "source": [
    "import pandas as pd"
   ]
  },
  {
   "cell_type": "code",
   "execution_count": 5,
   "metadata": {},
   "outputs": [],
   "source": [
    "# Obtener el json\n",
    "sensor_df = pd.read_json('export_db_arduino_27_dic.json')\n"
   ]
  },
  {
   "cell_type": "code",
   "execution_count": 6,
   "metadata": {},
   "outputs": [],
   "source": [
    "# sensor1\n",
    "sensor1 = sensor_df.drop(columns=['nameSensors', 'sensor2', 'sensor3', 'sensor4', 'sensor5'])\n",
    "sensor1.dropna(subset = [\"sensor1\"], inplace=True)"
   ]
  },
  {
   "cell_type": "code",
   "execution_count": 7,
   "metadata": {},
   "outputs": [
    {
     "data": {
      "text/html": [
       "<div>\n",
       "<style scoped>\n",
       "    .dataframe tbody tr th:only-of-type {\n",
       "        vertical-align: middle;\n",
       "    }\n",
       "\n",
       "    .dataframe tbody tr th {\n",
       "        vertical-align: top;\n",
       "    }\n",
       "\n",
       "    .dataframe thead th {\n",
       "        text-align: right;\n",
       "    }\n",
       "</style>\n",
       "<table border=\"1\" class=\"dataframe\">\n",
       "  <thead>\n",
       "    <tr style=\"text-align: right;\">\n",
       "      <th></th>\n",
       "      <th>sensor1</th>\n",
       "    </tr>\n",
       "  </thead>\n",
       "  <tbody>\n",
       "    <tr>\n",
       "      <th>2020-09-17T22:50:23Z</th>\n",
       "      <td>{'humidity': 61, 'light': 66.50391, 'temperatu...</td>\n",
       "    </tr>\n",
       "    <tr>\n",
       "      <th>2020-09-17T22:50:37Z</th>\n",
       "      <td>{'humidity': 60, 'light': 66.50391, 'temperatu...</td>\n",
       "    </tr>\n",
       "    <tr>\n",
       "      <th>2020-09-17T22:50:47Z</th>\n",
       "      <td>{'humidity': 60, 'light': 66.01563, 'temperatu...</td>\n",
       "    </tr>\n",
       "  </tbody>\n",
       "</table>\n",
       "</div>"
      ],
      "text/plain": [
       "                                                                sensor1\n",
       "2020-09-17T22:50:23Z  {'humidity': 61, 'light': 66.50391, 'temperatu...\n",
       "2020-09-17T22:50:37Z  {'humidity': 60, 'light': 66.50391, 'temperatu...\n",
       "2020-09-17T22:50:47Z  {'humidity': 60, 'light': 66.01563, 'temperatu..."
      ]
     },
     "execution_count": 7,
     "metadata": {},
     "output_type": "execute_result"
    }
   ],
   "source": [
    "sensor1"
   ]
  },
  {
   "cell_type": "code",
   "execution_count": 8,
   "metadata": {},
   "outputs": [],
   "source": [
    "#sensor2\n",
    "sensor2 = sensor_df.drop(columns=['nameSensors', 'sensor1', 'sensor3', 'sensor4', 'sensor5'])\n",
    "sensor2.dropna(subset = [\"sensor2\"], inplace=True)"
   ]
  },
  {
   "cell_type": "code",
   "execution_count": 9,
   "metadata": {},
   "outputs": [
    {
     "data": {
      "text/html": [
       "<div>\n",
       "<style scoped>\n",
       "    .dataframe tbody tr th:only-of-type {\n",
       "        vertical-align: middle;\n",
       "    }\n",
       "\n",
       "    .dataframe tbody tr th {\n",
       "        vertical-align: top;\n",
       "    }\n",
       "\n",
       "    .dataframe thead th {\n",
       "        text-align: right;\n",
       "    }\n",
       "</style>\n",
       "<table border=\"1\" class=\"dataframe\">\n",
       "  <thead>\n",
       "    <tr style=\"text-align: right;\">\n",
       "      <th></th>\n",
       "      <th>sensor2</th>\n",
       "    </tr>\n",
       "  </thead>\n",
       "  <tbody>\n",
       "    <tr>\n",
       "      <th>2020-09-17T22:50:23Z</th>\n",
       "      <td>{'humidity': 61, 'light': 66.50391, 'temperatu...</td>\n",
       "    </tr>\n",
       "    <tr>\n",
       "      <th>2020-09-17T22:50:37Z</th>\n",
       "      <td>{'humidity': 60, 'light': 66.50391, 'temperatu...</td>\n",
       "    </tr>\n",
       "    <tr>\n",
       "      <th>2020-09-17T22:50:47Z</th>\n",
       "      <td>{'humidity': 60, 'light': 66.01563, 'temperatu...</td>\n",
       "    </tr>\n",
       "    <tr>\n",
       "      <th>2020-09-17T22:52:39Z</th>\n",
       "      <td>{'humidity': 60, 'light': 68.45703, 'temperatu...</td>\n",
       "    </tr>\n",
       "    <tr>\n",
       "      <th>2020-09-20T14:47:55Z</th>\n",
       "      <td>{'humidity': 82, 'light': 45.70313, 'temperatu...</td>\n",
       "    </tr>\n",
       "    <tr>\n",
       "      <th>...</th>\n",
       "      <td>...</td>\n",
       "    </tr>\n",
       "    <tr>\n",
       "      <th>2020-09-20T19:18:57Z</th>\n",
       "      <td>{'humidity': 52, 'light': 32.71484, 'temperatu...</td>\n",
       "    </tr>\n",
       "    <tr>\n",
       "      <th>2020-09-20T19:19:07Z</th>\n",
       "      <td>{'humidity': 53, 'light': 32.32422, 'temperatu...</td>\n",
       "    </tr>\n",
       "    <tr>\n",
       "      <th>2020-09-20T19:19:17Z</th>\n",
       "      <td>{'humidity': 52, 'light': 32.42188, 'temperatu...</td>\n",
       "    </tr>\n",
       "    <tr>\n",
       "      <th>2020-09-20T19:19:27Z</th>\n",
       "      <td>{'humidity': 53, 'light': 32.51953, 'temperatu...</td>\n",
       "    </tr>\n",
       "    <tr>\n",
       "      <th>2020-09-20T19:19:37Z</th>\n",
       "      <td>{'humidity': 53, 'light': 31.54297, 'temperatu...</td>\n",
       "    </tr>\n",
       "  </tbody>\n",
       "</table>\n",
       "<p>1622 rows × 1 columns</p>\n",
       "</div>"
      ],
      "text/plain": [
       "                                                                sensor2\n",
       "2020-09-17T22:50:23Z  {'humidity': 61, 'light': 66.50391, 'temperatu...\n",
       "2020-09-17T22:50:37Z  {'humidity': 60, 'light': 66.50391, 'temperatu...\n",
       "2020-09-17T22:50:47Z  {'humidity': 60, 'light': 66.01563, 'temperatu...\n",
       "2020-09-17T22:52:39Z  {'humidity': 60, 'light': 68.45703, 'temperatu...\n",
       "2020-09-20T14:47:55Z  {'humidity': 82, 'light': 45.70313, 'temperatu...\n",
       "...                                                                 ...\n",
       "2020-09-20T19:18:57Z  {'humidity': 52, 'light': 32.71484, 'temperatu...\n",
       "2020-09-20T19:19:07Z  {'humidity': 53, 'light': 32.32422, 'temperatu...\n",
       "2020-09-20T19:19:17Z  {'humidity': 52, 'light': 32.42188, 'temperatu...\n",
       "2020-09-20T19:19:27Z  {'humidity': 53, 'light': 32.51953, 'temperatu...\n",
       "2020-09-20T19:19:37Z  {'humidity': 53, 'light': 31.54297, 'temperatu...\n",
       "\n",
       "[1622 rows x 1 columns]"
      ]
     },
     "execution_count": 9,
     "metadata": {},
     "output_type": "execute_result"
    }
   ],
   "source": [
    "sensor2"
   ]
  },
  {
   "cell_type": "code",
   "execution_count": 10,
   "metadata": {},
   "outputs": [],
   "source": [
    "#sensor3\n",
    "sensor3 = sensor_df.drop(columns=['nameSensors', 'sensor1', 'sensor2', 'sensor4', 'sensor5'])\n",
    "sensor3.dropna(subset = [\"sensor3\"], inplace=True)"
   ]
  },
  {
   "cell_type": "code",
   "execution_count": 11,
   "metadata": {},
   "outputs": [
    {
     "data": {
      "text/html": [
       "<div>\n",
       "<style scoped>\n",
       "    .dataframe tbody tr th:only-of-type {\n",
       "        vertical-align: middle;\n",
       "    }\n",
       "\n",
       "    .dataframe tbody tr th {\n",
       "        vertical-align: top;\n",
       "    }\n",
       "\n",
       "    .dataframe thead th {\n",
       "        text-align: right;\n",
       "    }\n",
       "</style>\n",
       "<table border=\"1\" class=\"dataframe\">\n",
       "  <thead>\n",
       "    <tr style=\"text-align: right;\">\n",
       "      <th></th>\n",
       "      <th>sensor3</th>\n",
       "    </tr>\n",
       "  </thead>\n",
       "  <tbody>\n",
       "    <tr>\n",
       "      <th>2020-09-17T22:50:23Z</th>\n",
       "      <td>{'humidity': 62, 'light': 66.50391, 'temperatu...</td>\n",
       "    </tr>\n",
       "    <tr>\n",
       "      <th>2020-09-17T22:50:37Z</th>\n",
       "      <td>{'humidity': 60, 'light': 66.50391, 'temperatu...</td>\n",
       "    </tr>\n",
       "    <tr>\n",
       "      <th>2020-09-17T22:50:47Z</th>\n",
       "      <td>{'humidity': 23, 'light': 66.01563, 'temperatu...</td>\n",
       "    </tr>\n",
       "  </tbody>\n",
       "</table>\n",
       "</div>"
      ],
      "text/plain": [
       "                                                                sensor3\n",
       "2020-09-17T22:50:23Z  {'humidity': 62, 'light': 66.50391, 'temperatu...\n",
       "2020-09-17T22:50:37Z  {'humidity': 60, 'light': 66.50391, 'temperatu...\n",
       "2020-09-17T22:50:47Z  {'humidity': 23, 'light': 66.01563, 'temperatu..."
      ]
     },
     "execution_count": 11,
     "metadata": {},
     "output_type": "execute_result"
    }
   ],
   "source": [
    "sensor3"
   ]
  },
  {
   "cell_type": "code",
   "execution_count": 12,
   "metadata": {},
   "outputs": [],
   "source": [
    "#sensor4\n",
    "sensor4 = sensor_df.drop(columns=['nameSensors', 'sensor1', 'sensor2', 'sensor3', 'sensor5'])\n",
    "sensor4.dropna(subset = [\"sensor4\"], inplace=True)"
   ]
  },
  {
   "cell_type": "code",
   "execution_count": 13,
   "metadata": {},
   "outputs": [
    {
     "data": {
      "text/html": [
       "<div>\n",
       "<style scoped>\n",
       "    .dataframe tbody tr th:only-of-type {\n",
       "        vertical-align: middle;\n",
       "    }\n",
       "\n",
       "    .dataframe tbody tr th {\n",
       "        vertical-align: top;\n",
       "    }\n",
       "\n",
       "    .dataframe thead th {\n",
       "        text-align: right;\n",
       "    }\n",
       "</style>\n",
       "<table border=\"1\" class=\"dataframe\">\n",
       "  <thead>\n",
       "    <tr style=\"text-align: right;\">\n",
       "      <th></th>\n",
       "      <th>sensor4</th>\n",
       "    </tr>\n",
       "  </thead>\n",
       "  <tbody>\n",
       "    <tr>\n",
       "      <th>1970-01-01T00:01:12Z</th>\n",
       "      <td>{'humidity': 60, 'light': 91.69922, 'temperatu...</td>\n",
       "    </tr>\n",
       "    <tr>\n",
       "      <th>2020-10-14T02:14:50Z</th>\n",
       "      <td>{'humidity': 60, 'light': 91.69922, 'temperatu...</td>\n",
       "    </tr>\n",
       "    <tr>\n",
       "      <th>2020-10-14T02:15:06Z</th>\n",
       "      <td>{'humidity': 60, 'light': 91.79688, 'temperatu...</td>\n",
       "    </tr>\n",
       "    <tr>\n",
       "      <th>2020-10-14T02:15:20Z</th>\n",
       "      <td>{'humidity': 60, 'light': 91.69922, 'temperatu...</td>\n",
       "    </tr>\n",
       "    <tr>\n",
       "      <th>2020-10-14T02:15:31Z</th>\n",
       "      <td>{'humidity': 60, 'light': 91.69922, 'temperatu...</td>\n",
       "    </tr>\n",
       "    <tr>\n",
       "      <th>...</th>\n",
       "      <td>...</td>\n",
       "    </tr>\n",
       "    <tr>\n",
       "      <th>2020-11-24T18:15:49Z</th>\n",
       "      <td>{'humidity': 66, 'light': 91.40625, 'temperatu...</td>\n",
       "    </tr>\n",
       "    <tr>\n",
       "      <th>2020-11-24T18:16:00Z</th>\n",
       "      <td>{'humidity': 66, 'light': 90.625, 'temperature...</td>\n",
       "    </tr>\n",
       "    <tr>\n",
       "      <th>2020-11-24T18:16:11Z</th>\n",
       "      <td>{'humidity': 66, 'light': 90.625, 'temperature...</td>\n",
       "    </tr>\n",
       "    <tr>\n",
       "      <th>2020-11-24T18:16:22Z</th>\n",
       "      <td>{'humidity': 66, 'light': 90.625, 'temperature...</td>\n",
       "    </tr>\n",
       "    <tr>\n",
       "      <th>2020-11-24T18:16:33Z</th>\n",
       "      <td>{'humidity': 66, 'light': 90.625, 'temperature...</td>\n",
       "    </tr>\n",
       "  </tbody>\n",
       "</table>\n",
       "<p>75011 rows × 1 columns</p>\n",
       "</div>"
      ],
      "text/plain": [
       "                                                                sensor4\n",
       "1970-01-01T00:01:12Z  {'humidity': 60, 'light': 91.69922, 'temperatu...\n",
       "2020-10-14T02:14:50Z  {'humidity': 60, 'light': 91.69922, 'temperatu...\n",
       "2020-10-14T02:15:06Z  {'humidity': 60, 'light': 91.79688, 'temperatu...\n",
       "2020-10-14T02:15:20Z  {'humidity': 60, 'light': 91.69922, 'temperatu...\n",
       "2020-10-14T02:15:31Z  {'humidity': 60, 'light': 91.69922, 'temperatu...\n",
       "...                                                                 ...\n",
       "2020-11-24T18:15:49Z  {'humidity': 66, 'light': 91.40625, 'temperatu...\n",
       "2020-11-24T18:16:00Z  {'humidity': 66, 'light': 90.625, 'temperature...\n",
       "2020-11-24T18:16:11Z  {'humidity': 66, 'light': 90.625, 'temperature...\n",
       "2020-11-24T18:16:22Z  {'humidity': 66, 'light': 90.625, 'temperature...\n",
       "2020-11-24T18:16:33Z  {'humidity': 66, 'light': 90.625, 'temperature...\n",
       "\n",
       "[75011 rows x 1 columns]"
      ]
     },
     "execution_count": 13,
     "metadata": {},
     "output_type": "execute_result"
    }
   ],
   "source": [
    "sensor4"
   ]
  },
  {
   "cell_type": "code",
   "execution_count": 14,
   "metadata": {},
   "outputs": [],
   "source": [
    "#sensor5\n",
    "sensor5 = sensor_df.drop(columns=['nameSensors', 'sensor1', 'sensor2', 'sensor3', 'sensor4'])\n",
    "sensor5.dropna(subset = [\"sensor5\"], inplace=True)"
   ]
  },
  {
   "cell_type": "code",
   "execution_count": 15,
   "metadata": {},
   "outputs": [
    {
     "data": {
      "text/html": [
       "<div>\n",
       "<style scoped>\n",
       "    .dataframe tbody tr th:only-of-type {\n",
       "        vertical-align: middle;\n",
       "    }\n",
       "\n",
       "    .dataframe tbody tr th {\n",
       "        vertical-align: top;\n",
       "    }\n",
       "\n",
       "    .dataframe thead th {\n",
       "        text-align: right;\n",
       "    }\n",
       "</style>\n",
       "<table border=\"1\" class=\"dataframe\">\n",
       "  <thead>\n",
       "    <tr style=\"text-align: right;\">\n",
       "      <th></th>\n",
       "      <th>sensor5</th>\n",
       "    </tr>\n",
       "  </thead>\n",
       "  <tbody>\n",
       "    <tr>\n",
       "      <th>2020-10-19T15:58:25Z</th>\n",
       "      <td>{'humidity': 11, 'light': 1020.8, 'temperature...</td>\n",
       "    </tr>\n",
       "    <tr>\n",
       "      <th>2020-10-19T17:36:13Z</th>\n",
       "      <td>{'humidity': 12, 'light': 544, 'temperature': ...</td>\n",
       "    </tr>\n",
       "    <tr>\n",
       "      <th>2020-10-19T17:37:44Z</th>\n",
       "      <td>{'humidity': 12, 'light': 1016.8, 'temperature...</td>\n",
       "    </tr>\n",
       "    <tr>\n",
       "      <th>2020-10-19T17:37:56Z</th>\n",
       "      <td>{'humidity': 12, 'light': 89.1, 'temperature':...</td>\n",
       "    </tr>\n",
       "    <tr>\n",
       "      <th>2020-10-19T19:02:34Z</th>\n",
       "      <td>{'humidity': 16, 'light': 95.2, 'temperature':...</td>\n",
       "    </tr>\n",
       "    <tr>\n",
       "      <th>...</th>\n",
       "      <td>...</td>\n",
       "    </tr>\n",
       "    <tr>\n",
       "      <th>2020-11-21T03:20:31Z</th>\n",
       "      <td>{'humidity': 71, 'light': 37, 'temperature': 1...</td>\n",
       "    </tr>\n",
       "    <tr>\n",
       "      <th>2020-11-21T03:20:35Z</th>\n",
       "      <td>{'humidity': 71, 'light': 37, 'temperature': 1...</td>\n",
       "    </tr>\n",
       "    <tr>\n",
       "      <th>2020-11-21T03:20:44Z</th>\n",
       "      <td>{'humidity': 71, 'light': 37, 'temperature': 1...</td>\n",
       "    </tr>\n",
       "    <tr>\n",
       "      <th>2020-11-21T03:20:54Z</th>\n",
       "      <td>{'humidity': 71, 'light': 37, 'temperature': 1...</td>\n",
       "    </tr>\n",
       "    <tr>\n",
       "      <th>2020-11-21T03:21:04Z</th>\n",
       "      <td>{'humidity': 71, 'light': 37, 'temperature': 1...</td>\n",
       "    </tr>\n",
       "  </tbody>\n",
       "</table>\n",
       "<p>76526 rows × 1 columns</p>\n",
       "</div>"
      ],
      "text/plain": [
       "                                                                sensor5\n",
       "2020-10-19T15:58:25Z  {'humidity': 11, 'light': 1020.8, 'temperature...\n",
       "2020-10-19T17:36:13Z  {'humidity': 12, 'light': 544, 'temperature': ...\n",
       "2020-10-19T17:37:44Z  {'humidity': 12, 'light': 1016.8, 'temperature...\n",
       "2020-10-19T17:37:56Z  {'humidity': 12, 'light': 89.1, 'temperature':...\n",
       "2020-10-19T19:02:34Z  {'humidity': 16, 'light': 95.2, 'temperature':...\n",
       "...                                                                 ...\n",
       "2020-11-21T03:20:31Z  {'humidity': 71, 'light': 37, 'temperature': 1...\n",
       "2020-11-21T03:20:35Z  {'humidity': 71, 'light': 37, 'temperature': 1...\n",
       "2020-11-21T03:20:44Z  {'humidity': 71, 'light': 37, 'temperature': 1...\n",
       "2020-11-21T03:20:54Z  {'humidity': 71, 'light': 37, 'temperature': 1...\n",
       "2020-11-21T03:21:04Z  {'humidity': 71, 'light': 37, 'temperature': 1...\n",
       "\n",
       "[76526 rows x 1 columns]"
      ]
     },
     "execution_count": 15,
     "metadata": {},
     "output_type": "execute_result"
    }
   ],
   "source": [
    "sensor5"
   ]
  },
  {
   "cell_type": "code",
   "execution_count": 16,
   "metadata": {},
   "outputs": [
    {
     "data": {
      "text/plain": [
       "153165"
      ]
     },
     "execution_count": 16,
     "metadata": {},
     "output_type": "execute_result"
    }
   ],
   "source": [
    "len_total = len(sensor1) + len(sensor2) + len(sensor3) + len(sensor4) + len(sensor5) \n",
    "len_total"
   ]
  },
  {
   "cell_type": "code",
   "execution_count": null,
   "metadata": {},
   "outputs": [],
   "source": []
  }
 ],
 "metadata": {
  "kernelspec": {
   "display_name": "Python 3",
   "language": "python",
   "name": "python3"
  },
  "language_info": {
   "codemirror_mode": {
    "name": "ipython",
    "version": 3
   },
   "file_extension": ".py",
   "mimetype": "text/x-python",
   "name": "python",
   "nbconvert_exporter": "python",
   "pygments_lexer": "ipython3",
   "version": "3.8.5"
  }
 },
 "nbformat": 4,
 "nbformat_minor": 4
}
