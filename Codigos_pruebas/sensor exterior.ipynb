{
 "cells": [
  {
   "cell_type": "code",
   "execution_count": 1,
   "metadata": {},
   "outputs": [],
   "source": [
    "%matplotlib inline\n"
   ]
  },
  {
   "cell_type": "code",
   "execution_count": 2,
   "metadata": {},
   "outputs": [],
   "source": [
    "## SENSOR EXTERIOR FUNCIONO DEL 19 AL 28 DE OCTUBRE\n",
    "## SENSOR INTERIOR FUNCIONO DEL 25 DE OCTUBRE AL 3 DE NOVIEMBRE"
   ]
  },
  {
   "cell_type": "code",
   "execution_count": 3,
   "metadata": {},
   "outputs": [],
   "source": [
    "import pandas as pd\n",
    "import matplotlib.pyplot as plt\n",
    "import math\n",
    "plt.rcParams['figure.figsize'] = [9, 6]"
   ]
  },
  {
   "cell_type": "code",
   "execution_count": 4,
   "metadata": {},
   "outputs": [],
   "source": [
    "# Obtener el json (solo los datos del sensor 4)\n",
    "sensor_df = pd.read_json('test-arduino-26-nov.json')\n",
    "\n",
    "sensordf2 = sensor_df.drop(columns=['nameSensors', 'sensor1', 'sensor2', 'sensor3', 'sensor5'])\n",
    "sensordf2.dropna(subset = [\"sensor4\"], inplace=True)"
   ]
  },
  {
   "cell_type": "code",
   "execution_count": 5,
   "metadata": {},
   "outputs": [
    {
     "data": {
      "text/html": [
       "<div>\n",
       "<style scoped>\n",
       "    .dataframe tbody tr th:only-of-type {\n",
       "        vertical-align: middle;\n",
       "    }\n",
       "\n",
       "    .dataframe tbody tr th {\n",
       "        vertical-align: top;\n",
       "    }\n",
       "\n",
       "    .dataframe thead th {\n",
       "        text-align: right;\n",
       "    }\n",
       "</style>\n",
       "<table border=\"1\" class=\"dataframe\">\n",
       "  <thead>\n",
       "    <tr style=\"text-align: right;\">\n",
       "      <th></th>\n",
       "      <th>sensor4</th>\n",
       "    </tr>\n",
       "  </thead>\n",
       "  <tbody>\n",
       "    <tr>\n",
       "      <th>1970-01-01T00:01:12Z</th>\n",
       "      <td>{'humidity': 60, 'light': 91.69922, 'temperatu...</td>\n",
       "    </tr>\n",
       "    <tr>\n",
       "      <th>2020-10-14T02:14:50Z</th>\n",
       "      <td>{'humidity': 60, 'light': 91.69922, 'temperatu...</td>\n",
       "    </tr>\n",
       "    <tr>\n",
       "      <th>2020-10-14T02:15:06Z</th>\n",
       "      <td>{'humidity': 60, 'light': 91.79688, 'temperatu...</td>\n",
       "    </tr>\n",
       "    <tr>\n",
       "      <th>2020-10-14T02:15:20Z</th>\n",
       "      <td>{'humidity': 60, 'light': 91.69922, 'temperatu...</td>\n",
       "    </tr>\n",
       "    <tr>\n",
       "      <th>2020-10-14T02:15:31Z</th>\n",
       "      <td>{'humidity': 60, 'light': 91.69922, 'temperatu...</td>\n",
       "    </tr>\n",
       "    <tr>\n",
       "      <th>...</th>\n",
       "      <td>...</td>\n",
       "    </tr>\n",
       "    <tr>\n",
       "      <th>2020-11-24T18:15:49Z</th>\n",
       "      <td>{'humidity': 66, 'light': 91.40625, 'temperatu...</td>\n",
       "    </tr>\n",
       "    <tr>\n",
       "      <th>2020-11-24T18:16:00Z</th>\n",
       "      <td>{'humidity': 66, 'light': 90.625, 'temperature...</td>\n",
       "    </tr>\n",
       "    <tr>\n",
       "      <th>2020-11-24T18:16:11Z</th>\n",
       "      <td>{'humidity': 66, 'light': 90.625, 'temperature...</td>\n",
       "    </tr>\n",
       "    <tr>\n",
       "      <th>2020-11-24T18:16:22Z</th>\n",
       "      <td>{'humidity': 66, 'light': 90.625, 'temperature...</td>\n",
       "    </tr>\n",
       "    <tr>\n",
       "      <th>2020-11-24T18:16:33Z</th>\n",
       "      <td>{'humidity': 66, 'light': 90.625, 'temperature...</td>\n",
       "    </tr>\n",
       "  </tbody>\n",
       "</table>\n",
       "<p>75011 rows × 1 columns</p>\n",
       "</div>"
      ],
      "text/plain": [
       "                                                                sensor4\n",
       "1970-01-01T00:01:12Z  {'humidity': 60, 'light': 91.69922, 'temperatu...\n",
       "2020-10-14T02:14:50Z  {'humidity': 60, 'light': 91.69922, 'temperatu...\n",
       "2020-10-14T02:15:06Z  {'humidity': 60, 'light': 91.79688, 'temperatu...\n",
       "2020-10-14T02:15:20Z  {'humidity': 60, 'light': 91.69922, 'temperatu...\n",
       "2020-10-14T02:15:31Z  {'humidity': 60, 'light': 91.69922, 'temperatu...\n",
       "...                                                                 ...\n",
       "2020-11-24T18:15:49Z  {'humidity': 66, 'light': 91.40625, 'temperatu...\n",
       "2020-11-24T18:16:00Z  {'humidity': 66, 'light': 90.625, 'temperature...\n",
       "2020-11-24T18:16:11Z  {'humidity': 66, 'light': 90.625, 'temperature...\n",
       "2020-11-24T18:16:22Z  {'humidity': 66, 'light': 90.625, 'temperature...\n",
       "2020-11-24T18:16:33Z  {'humidity': 66, 'light': 90.625, 'temperature...\n",
       "\n",
       "[75011 rows x 1 columns]"
      ]
     },
     "execution_count": 5,
     "metadata": {},
     "output_type": "execute_result"
    }
   ],
   "source": [
    "sensordf2"
   ]
  },
  {
   "cell_type": "code",
   "execution_count": 6,
   "metadata": {},
   "outputs": [],
   "source": [
    "data = sensordf2['sensor4'].values.tolist()\n",
    "df = pd.DataFrame(data,columns =['humidity', 'light','temperature', 'timestamp'])"
   ]
  },
  {
   "cell_type": "code",
   "execution_count": 7,
   "metadata": {},
   "outputs": [
    {
     "data": {
      "text/html": [
       "<div>\n",
       "<style scoped>\n",
       "    .dataframe tbody tr th:only-of-type {\n",
       "        vertical-align: middle;\n",
       "    }\n",
       "\n",
       "    .dataframe tbody tr th {\n",
       "        vertical-align: top;\n",
       "    }\n",
       "\n",
       "    .dataframe thead th {\n",
       "        text-align: right;\n",
       "    }\n",
       "</style>\n",
       "<table border=\"1\" class=\"dataframe\">\n",
       "  <thead>\n",
       "    <tr style=\"text-align: right;\">\n",
       "      <th></th>\n",
       "      <th>humidity</th>\n",
       "      <th>light</th>\n",
       "      <th>temperature</th>\n",
       "      <th>timestamp</th>\n",
       "      <th>date</th>\n",
       "    </tr>\n",
       "  </thead>\n",
       "  <tbody>\n",
       "    <tr>\n",
       "      <th>0</th>\n",
       "      <td>60.0</td>\n",
       "      <td>91.69922</td>\n",
       "      <td>19.9</td>\n",
       "      <td>72</td>\n",
       "      <td>1970-01-01 00:01:12</td>\n",
       "    </tr>\n",
       "    <tr>\n",
       "      <th>1</th>\n",
       "      <td>60.0</td>\n",
       "      <td>91.69922</td>\n",
       "      <td>19.9</td>\n",
       "      <td>1.60264e+09</td>\n",
       "      <td>2020-10-14 02:20:00</td>\n",
       "    </tr>\n",
       "    <tr>\n",
       "      <th>2</th>\n",
       "      <td>60.0</td>\n",
       "      <td>91.79688</td>\n",
       "      <td>19.9</td>\n",
       "      <td>1.60264e+09</td>\n",
       "      <td>2020-10-14 02:20:00</td>\n",
       "    </tr>\n",
       "    <tr>\n",
       "      <th>3</th>\n",
       "      <td>60.0</td>\n",
       "      <td>91.69922</td>\n",
       "      <td>19.9</td>\n",
       "      <td>1.60264e+09</td>\n",
       "      <td>2020-10-14 02:20:00</td>\n",
       "    </tr>\n",
       "    <tr>\n",
       "      <th>4</th>\n",
       "      <td>60.0</td>\n",
       "      <td>91.69922</td>\n",
       "      <td>19.9</td>\n",
       "      <td>1.60264e+09</td>\n",
       "      <td>2020-10-14 02:20:00</td>\n",
       "    </tr>\n",
       "    <tr>\n",
       "      <th>...</th>\n",
       "      <td>...</td>\n",
       "      <td>...</td>\n",
       "      <td>...</td>\n",
       "      <td>...</td>\n",
       "      <td>...</td>\n",
       "    </tr>\n",
       "    <tr>\n",
       "      <th>75006</th>\n",
       "      <td>66.0</td>\n",
       "      <td>91.40625</td>\n",
       "      <td>19.5</td>\n",
       "      <td>1606241749</td>\n",
       "      <td>2020-11-24 18:15:49</td>\n",
       "    </tr>\n",
       "    <tr>\n",
       "      <th>75007</th>\n",
       "      <td>66.0</td>\n",
       "      <td>90.62500</td>\n",
       "      <td>19.5</td>\n",
       "      <td>1606241760</td>\n",
       "      <td>2020-11-24 18:16:00</td>\n",
       "    </tr>\n",
       "    <tr>\n",
       "      <th>75008</th>\n",
       "      <td>66.0</td>\n",
       "      <td>90.62500</td>\n",
       "      <td>19.5</td>\n",
       "      <td>1606241771</td>\n",
       "      <td>2020-11-24 18:16:11</td>\n",
       "    </tr>\n",
       "    <tr>\n",
       "      <th>75009</th>\n",
       "      <td>66.0</td>\n",
       "      <td>90.62500</td>\n",
       "      <td>19.5</td>\n",
       "      <td>1606241782</td>\n",
       "      <td>2020-11-24 18:16:22</td>\n",
       "    </tr>\n",
       "    <tr>\n",
       "      <th>75010</th>\n",
       "      <td>66.0</td>\n",
       "      <td>90.62500</td>\n",
       "      <td>19.5</td>\n",
       "      <td>1606241793</td>\n",
       "      <td>2020-11-24 18:16:33</td>\n",
       "    </tr>\n",
       "  </tbody>\n",
       "</table>\n",
       "<p>75011 rows × 5 columns</p>\n",
       "</div>"
      ],
      "text/plain": [
       "       humidity     light  temperature    timestamp                date\n",
       "0          60.0  91.69922         19.9           72 1970-01-01 00:01:12\n",
       "1          60.0  91.69922         19.9  1.60264e+09 2020-10-14 02:20:00\n",
       "2          60.0  91.79688         19.9  1.60264e+09 2020-10-14 02:20:00\n",
       "3          60.0  91.69922         19.9  1.60264e+09 2020-10-14 02:20:00\n",
       "4          60.0  91.69922         19.9  1.60264e+09 2020-10-14 02:20:00\n",
       "...         ...       ...          ...          ...                 ...\n",
       "75006      66.0  91.40625         19.5   1606241749 2020-11-24 18:15:49\n",
       "75007      66.0  90.62500         19.5   1606241760 2020-11-24 18:16:00\n",
       "75008      66.0  90.62500         19.5   1606241771 2020-11-24 18:16:11\n",
       "75009      66.0  90.62500         19.5   1606241782 2020-11-24 18:16:22\n",
       "75010      66.0  90.62500         19.5   1606241793 2020-11-24 18:16:33\n",
       "\n",
       "[75011 rows x 5 columns]"
      ]
     },
     "execution_count": 7,
     "metadata": {},
     "output_type": "execute_result"
    }
   ],
   "source": [
    "df['date'] = pd.to_datetime(df['timestamp'],unit='s', errors='coerce')\n",
    "df"
   ]
  },
  {
   "cell_type": "code",
   "execution_count": 8,
   "metadata": {},
   "outputs": [],
   "source": [
    "df2 = df[df['date'] > '2020-10-19 22:25:00']\n",
    "df2 = df2[df2['date'] < '2020-10-28 00:00:00']\n",
    "df2 = df2[df2['temperature'] < 100]"
   ]
  },
  {
   "cell_type": "code",
   "execution_count": 9,
   "metadata": {},
   "outputs": [
    {
     "data": {
      "text/html": [
       "<div>\n",
       "<style scoped>\n",
       "    .dataframe tbody tr th:only-of-type {\n",
       "        vertical-align: middle;\n",
       "    }\n",
       "\n",
       "    .dataframe tbody tr th {\n",
       "        vertical-align: top;\n",
       "    }\n",
       "\n",
       "    .dataframe thead th {\n",
       "        text-align: right;\n",
       "    }\n",
       "</style>\n",
       "<table border=\"1\" class=\"dataframe\">\n",
       "  <thead>\n",
       "    <tr style=\"text-align: right;\">\n",
       "      <th></th>\n",
       "      <th>humidity</th>\n",
       "      <th>light</th>\n",
       "      <th>temperature</th>\n",
       "      <th>timestamp</th>\n",
       "      <th>date</th>\n",
       "    </tr>\n",
       "  </thead>\n",
       "  <tbody>\n",
       "    <tr>\n",
       "      <th>1708</th>\n",
       "      <td>64.0</td>\n",
       "      <td>92.675780</td>\n",
       "      <td>14.5</td>\n",
       "      <td>1603146301</td>\n",
       "      <td>2020-10-19 22:25:01</td>\n",
       "    </tr>\n",
       "    <tr>\n",
       "      <th>1709</th>\n",
       "      <td>64.0</td>\n",
       "      <td>92.578130</td>\n",
       "      <td>14.5</td>\n",
       "      <td>1603146312</td>\n",
       "      <td>2020-10-19 22:25:12</td>\n",
       "    </tr>\n",
       "    <tr>\n",
       "      <th>1710</th>\n",
       "      <td>64.0</td>\n",
       "      <td>92.578130</td>\n",
       "      <td>14.4</td>\n",
       "      <td>1603146323</td>\n",
       "      <td>2020-10-19 22:25:23</td>\n",
       "    </tr>\n",
       "    <tr>\n",
       "      <th>1711</th>\n",
       "      <td>64.0</td>\n",
       "      <td>92.480470</td>\n",
       "      <td>14.4</td>\n",
       "      <td>1603146334</td>\n",
       "      <td>2020-10-19 22:25:34</td>\n",
       "    </tr>\n",
       "    <tr>\n",
       "      <th>1712</th>\n",
       "      <td>64.0</td>\n",
       "      <td>93.164060</td>\n",
       "      <td>14.4</td>\n",
       "      <td>1603146347</td>\n",
       "      <td>2020-10-19 22:25:47</td>\n",
       "    </tr>\n",
       "    <tr>\n",
       "      <th>...</th>\n",
       "      <td>...</td>\n",
       "      <td>...</td>\n",
       "      <td>...</td>\n",
       "      <td>...</td>\n",
       "      <td>...</td>\n",
       "    </tr>\n",
       "    <tr>\n",
       "      <th>57027</th>\n",
       "      <td>88.0</td>\n",
       "      <td>9.960938</td>\n",
       "      <td>8.0</td>\n",
       "      <td>1603843144</td>\n",
       "      <td>2020-10-27 23:59:04</td>\n",
       "    </tr>\n",
       "    <tr>\n",
       "      <th>57028</th>\n",
       "      <td>88.0</td>\n",
       "      <td>9.960938</td>\n",
       "      <td>8.0</td>\n",
       "      <td>1603843155</td>\n",
       "      <td>2020-10-27 23:59:15</td>\n",
       "    </tr>\n",
       "    <tr>\n",
       "      <th>57029</th>\n",
       "      <td>88.0</td>\n",
       "      <td>10.351560</td>\n",
       "      <td>8.0</td>\n",
       "      <td>1603843167</td>\n",
       "      <td>2020-10-27 23:59:27</td>\n",
       "    </tr>\n",
       "    <tr>\n",
       "      <th>57030</th>\n",
       "      <td>88.0</td>\n",
       "      <td>9.960938</td>\n",
       "      <td>8.0</td>\n",
       "      <td>1603843178</td>\n",
       "      <td>2020-10-27 23:59:38</td>\n",
       "    </tr>\n",
       "    <tr>\n",
       "      <th>57031</th>\n",
       "      <td>88.0</td>\n",
       "      <td>9.960938</td>\n",
       "      <td>8.0</td>\n",
       "      <td>1603843189</td>\n",
       "      <td>2020-10-27 23:59:49</td>\n",
       "    </tr>\n",
       "  </tbody>\n",
       "</table>\n",
       "<p>55025 rows × 5 columns</p>\n",
       "</div>"
      ],
      "text/plain": [
       "       humidity      light  temperature   timestamp                date\n",
       "1708       64.0  92.675780         14.5  1603146301 2020-10-19 22:25:01\n",
       "1709       64.0  92.578130         14.5  1603146312 2020-10-19 22:25:12\n",
       "1710       64.0  92.578130         14.4  1603146323 2020-10-19 22:25:23\n",
       "1711       64.0  92.480470         14.4  1603146334 2020-10-19 22:25:34\n",
       "1712       64.0  93.164060         14.4  1603146347 2020-10-19 22:25:47\n",
       "...         ...        ...          ...         ...                 ...\n",
       "57027      88.0   9.960938          8.0  1603843144 2020-10-27 23:59:04\n",
       "57028      88.0   9.960938          8.0  1603843155 2020-10-27 23:59:15\n",
       "57029      88.0  10.351560          8.0  1603843167 2020-10-27 23:59:27\n",
       "57030      88.0   9.960938          8.0  1603843178 2020-10-27 23:59:38\n",
       "57031      88.0   9.960938          8.0  1603843189 2020-10-27 23:59:49\n",
       "\n",
       "[55025 rows x 5 columns]"
      ]
     },
     "execution_count": 9,
     "metadata": {},
     "output_type": "execute_result"
    }
   ],
   "source": [
    "df2"
   ]
  },
  {
   "cell_type": "code",
   "execution_count": 10,
   "metadata": {},
   "outputs": [
    {
     "data": {
      "text/plain": [
       "214748400.0"
      ]
     },
     "execution_count": 10,
     "metadata": {},
     "output_type": "execute_result"
    }
   ],
   "source": [
    "df['humidity'].max()"
   ]
  },
  {
   "cell_type": "code",
   "execution_count": 15,
   "metadata": {
    "scrolled": true
   },
   "outputs": [
    {
     "data": {
      "image/png": "[encoded data removed]",
      "text/plain": [
       "<Figure size 648x432 with 1 Axes>"
      ]
     },
     "metadata": {
      "needs_background": "light"
     },
     "output_type": "display_data"
    }
   ],
   "source": [
    "#Temperatura\n",
    "ax1 = df2.plot(kind='scatter', x='date', y='temperature', color='b', label=\"temperatura (°C)\") \n",
    "\n",
    "ax1.legend()\n",
    "\n",
    "plt.xticks(rotation=-30)\n",
    "plt.savefig(\"temperatura_exterior.pdf\")\n",
    "plt.show()\n"
   ]
  },
  {
   "cell_type": "code",
   "execution_count": 17,
   "metadata": {},
   "outputs": [
    {
     "data": {
      "image/png": "[encoded data removed]",
      "text/plain": [
       "<Figure size 648x432 with 1 Axes>"
      ]
     },
     "metadata": {
      "needs_background": "light"
     },
     "output_type": "display_data"
    }
   ],
   "source": [
    "# Humedad\n",
    "ax1 = df2.plot(kind='scatter', x='date', y='humidity', color='r', label=\"humedad (%)\") \n",
    "\n",
    "ax1.legend()\n",
    "\n",
    "plt.xticks(rotation=-30)\n",
    "plt.savefig(\"humedad_exterior.pdf\")\n",
    "plt.show()\n"
   ]
  },
  {
   "cell_type": "code",
   "execution_count": 16,
   "metadata": {},
   "outputs": [
    {
     "data": {
      "image/png": "[encoded data removed]",
      "text/plain": [
       "<Figure size 648x432 with 1 Axes>"
      ]
     },
     "metadata": {
      "needs_background": "light"
     },
     "output_type": "display_data"
    }
   ],
   "source": [
    "# Luz\n",
    "ax1 = df2.plot(kind='scatter', x='date', y='light', color='g',  label=\"luz (%)\") \n",
    "\n",
    "ax1.legend()\n",
    "\n",
    "plt.xticks(rotation=-30)\n",
    "plt.savefig(\"luz_exterior.pdf\")\n",
    "plt.show()\n"
   ]
  },
  {
   "cell_type": "code",
   "execution_count": 18,
   "metadata": {},
   "outputs": [
    {
     "name": "stdout",
     "output_type": "stream",
     "text": [
      "11.940110858700592 10.5 0    8.7\n",
      "dtype: float64\n"
     ]
    }
   ],
   "source": [
    "#Temperatura\n",
    "media = df2[\"temperature\"].mean()\n",
    "mediana = df2[\"temperature\"].median()\n",
    "moda = df2[\"temperature\"].mode()\n",
    "print(media,mediana,moda)"
   ]
  },
  {
   "cell_type": "code",
   "execution_count": 19,
   "metadata": {},
   "outputs": [
    {
     "name": "stdout",
     "output_type": "stream",
     "text": [
      "77.21715968800568 84.0 0    88.0\n",
      "dtype: float64\n"
     ]
    }
   ],
   "source": [
    "#Humedad\n",
    "media = df2[\"humidity\"].mean()\n",
    "mediana = df2[\"humidity\"].median()\n",
    "moda = df2[\"humidity\"].mode()\n",
    "print(media,mediana,moda)"
   ]
  },
  {
   "cell_type": "code",
   "execution_count": 20,
   "metadata": {},
   "outputs": [
    {
     "name": "stdout",
     "output_type": "stream",
     "text": [
      "56.54784341514133 85.44922 0    10.35156\n",
      "dtype: float64\n"
     ]
    }
   ],
   "source": [
    "#Luz\n",
    "media = df2[\"light\"].mean()\n",
    "mediana = df2[\"light\"].median()\n",
    "moda = df2[\"light\"].mode()\n",
    "print(media,mediana,moda)"
   ]
  },
  {
   "cell_type": "code",
   "execution_count": null,
   "metadata": {},
   "outputs": [],
   "source": []
  }
 ],
 "metadata": {
  "kernelspec": {
   "display_name": "Python 3",
   "language": "python",
   "name": "python3"
  },
  "language_info": {
   "codemirror_mode": {
    "name": "ipython",
    "version": 3
   },
   "file_extension": ".py",
   "mimetype": "text/x-python",
   "name": "python",
   "nbconvert_exporter": "python",
   "pygments_lexer": "ipython3",
   "version": "3.8.5"
  }
 },
 "nbformat": 4,
 "nbformat_minor": 4
}
