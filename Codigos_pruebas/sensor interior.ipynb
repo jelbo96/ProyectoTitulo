{
 "cells": [
  {
   "cell_type": "code",
   "execution_count": 1,
   "metadata": {},
   "outputs": [],
   "source": [
    "%matplotlib inline\n"
   ]
  },
  {
   "cell_type": "code",
   "execution_count": 2,
   "metadata": {},
   "outputs": [],
   "source": [
    "## SENSOR EXTERIOR FUNCIONO DEL 19 AL 28 DE OCTUBRE\n",
    "## SENSOR INTERIOR FUNCIONO DEL 25 DE OCTUBRE AL 3 DE NOVIEMBRE"
   ]
  },
  {
   "cell_type": "code",
   "execution_count": 3,
   "metadata": {},
   "outputs": [],
   "source": [
    "import pandas as pd\n",
    "import matplotlib.pyplot as plt\n",
    "import math\n",
    "plt.rcParams['figure.figsize'] = [9, 6]"
   ]
  },
  {
   "cell_type": "code",
   "execution_count": 4,
   "metadata": {},
   "outputs": [],
   "source": [
    "# Obtener el json (solo los datos del sensor 4)\n",
    "sensor_df = pd.read_json('test-arduino-26-nov.json')\n",
    "\n",
    "sensordf2 = sensor_df.drop(columns=['nameSensors', 'sensor1', 'sensor2', 'sensor3', 'sensor4'])\n",
    "sensordf2.dropna(subset = [\"sensor5\"], inplace=True)"
   ]
  },
  {
   "cell_type": "code",
   "execution_count": 5,
   "metadata": {},
   "outputs": [
    {
     "data": {
      "text/html": [
       "<div>\n",
       "<style scoped>\n",
       "    .dataframe tbody tr th:only-of-type {\n",
       "        vertical-align: middle;\n",
       "    }\n",
       "\n",
       "    .dataframe tbody tr th {\n",
       "        vertical-align: top;\n",
       "    }\n",
       "\n",
       "    .dataframe thead th {\n",
       "        text-align: right;\n",
       "    }\n",
       "</style>\n",
       "<table border=\"1\" class=\"dataframe\">\n",
       "  <thead>\n",
       "    <tr style=\"text-align: right;\">\n",
       "      <th></th>\n",
       "      <th>sensor5</th>\n",
       "    </tr>\n",
       "  </thead>\n",
       "  <tbody>\n",
       "    <tr>\n",
       "      <th>2020-10-19T15:58:25Z</th>\n",
       "      <td>{'humidity': 11, 'light': 1020.8, 'temperature...</td>\n",
       "    </tr>\n",
       "    <tr>\n",
       "      <th>2020-10-19T17:36:13Z</th>\n",
       "      <td>{'humidity': 12, 'light': 544, 'temperature': ...</td>\n",
       "    </tr>\n",
       "    <tr>\n",
       "      <th>2020-10-19T17:37:44Z</th>\n",
       "      <td>{'humidity': 12, 'light': 1016.8, 'temperature...</td>\n",
       "    </tr>\n",
       "    <tr>\n",
       "      <th>2020-10-19T17:37:56Z</th>\n",
       "      <td>{'humidity': 12, 'light': 89.1, 'temperature':...</td>\n",
       "    </tr>\n",
       "    <tr>\n",
       "      <th>2020-10-19T19:02:34Z</th>\n",
       "      <td>{'humidity': 16, 'light': 95.2, 'temperature':...</td>\n",
       "    </tr>\n",
       "    <tr>\n",
       "      <th>...</th>\n",
       "      <td>...</td>\n",
       "    </tr>\n",
       "    <tr>\n",
       "      <th>2020-11-21T03:20:31Z</th>\n",
       "      <td>{'humidity': 71, 'light': 37, 'temperature': 1...</td>\n",
       "    </tr>\n",
       "    <tr>\n",
       "      <th>2020-11-21T03:20:35Z</th>\n",
       "      <td>{'humidity': 71, 'light': 37, 'temperature': 1...</td>\n",
       "    </tr>\n",
       "    <tr>\n",
       "      <th>2020-11-21T03:20:44Z</th>\n",
       "      <td>{'humidity': 71, 'light': 37, 'temperature': 1...</td>\n",
       "    </tr>\n",
       "    <tr>\n",
       "      <th>2020-11-21T03:20:54Z</th>\n",
       "      <td>{'humidity': 71, 'light': 37, 'temperature': 1...</td>\n",
       "    </tr>\n",
       "    <tr>\n",
       "      <th>2020-11-21T03:21:04Z</th>\n",
       "      <td>{'humidity': 71, 'light': 37, 'temperature': 1...</td>\n",
       "    </tr>\n",
       "  </tbody>\n",
       "</table>\n",
       "<p>76526 rows × 1 columns</p>\n",
       "</div>"
      ],
      "text/plain": [
       "                                                                sensor5\n",
       "2020-10-19T15:58:25Z  {'humidity': 11, 'light': 1020.8, 'temperature...\n",
       "2020-10-19T17:36:13Z  {'humidity': 12, 'light': 544, 'temperature': ...\n",
       "2020-10-19T17:37:44Z  {'humidity': 12, 'light': 1016.8, 'temperature...\n",
       "2020-10-19T17:37:56Z  {'humidity': 12, 'light': 89.1, 'temperature':...\n",
       "2020-10-19T19:02:34Z  {'humidity': 16, 'light': 95.2, 'temperature':...\n",
       "...                                                                 ...\n",
       "2020-11-21T03:20:31Z  {'humidity': 71, 'light': 37, 'temperature': 1...\n",
       "2020-11-21T03:20:35Z  {'humidity': 71, 'light': 37, 'temperature': 1...\n",
       "2020-11-21T03:20:44Z  {'humidity': 71, 'light': 37, 'temperature': 1...\n",
       "2020-11-21T03:20:54Z  {'humidity': 71, 'light': 37, 'temperature': 1...\n",
       "2020-11-21T03:21:04Z  {'humidity': 71, 'light': 37, 'temperature': 1...\n",
       "\n",
       "[76526 rows x 1 columns]"
      ]
     },
     "execution_count": 5,
     "metadata": {},
     "output_type": "execute_result"
    }
   ],
   "source": [
    "sensordf2"
   ]
  },
  {
   "cell_type": "code",
   "execution_count": 6,
   "metadata": {},
   "outputs": [],
   "source": [
    "data = sensordf2['sensor5'].values.tolist()\n",
    "df = pd.DataFrame(data,columns =['humidity', 'light','temperature', 'timestamp'])"
   ]
  },
  {
   "cell_type": "code",
   "execution_count": 7,
   "metadata": {},
   "outputs": [
    {
     "data": {
      "text/html": [
       "<div>\n",
       "<style scoped>\n",
       "    .dataframe tbody tr th:only-of-type {\n",
       "        vertical-align: middle;\n",
       "    }\n",
       "\n",
       "    .dataframe tbody tr th {\n",
       "        vertical-align: top;\n",
       "    }\n",
       "\n",
       "    .dataframe thead th {\n",
       "        text-align: right;\n",
       "    }\n",
       "</style>\n",
       "<table border=\"1\" class=\"dataframe\">\n",
       "  <thead>\n",
       "    <tr style=\"text-align: right;\">\n",
       "      <th></th>\n",
       "      <th>humidity</th>\n",
       "      <th>light</th>\n",
       "      <th>temperature</th>\n",
       "      <th>timestamp</th>\n",
       "      <th>date</th>\n",
       "    </tr>\n",
       "  </thead>\n",
       "  <tbody>\n",
       "    <tr>\n",
       "      <th>0</th>\n",
       "      <td>11.0</td>\n",
       "      <td>1020.8</td>\n",
       "      <td>35.20508</td>\n",
       "      <td>1603123105</td>\n",
       "      <td>2020-10-19 15:58:25</td>\n",
       "    </tr>\n",
       "    <tr>\n",
       "      <th>1</th>\n",
       "      <td>12.0</td>\n",
       "      <td>544.0</td>\n",
       "      <td>19.61914</td>\n",
       "      <td>1603128973</td>\n",
       "      <td>2020-10-19 17:36:13</td>\n",
       "    </tr>\n",
       "    <tr>\n",
       "      <th>2</th>\n",
       "      <td>12.0</td>\n",
       "      <td>1016.8</td>\n",
       "      <td>20.10742</td>\n",
       "      <td>1603129064</td>\n",
       "      <td>2020-10-19 17:37:44</td>\n",
       "    </tr>\n",
       "    <tr>\n",
       "      <th>3</th>\n",
       "      <td>12.0</td>\n",
       "      <td>89.1</td>\n",
       "      <td>14.78516</td>\n",
       "      <td>1603129076</td>\n",
       "      <td>2020-10-19 17:37:56</td>\n",
       "    </tr>\n",
       "    <tr>\n",
       "      <th>4</th>\n",
       "      <td>16.0</td>\n",
       "      <td>95.2</td>\n",
       "      <td>15.27344</td>\n",
       "      <td>1603134154</td>\n",
       "      <td>2020-10-19 19:02:34</td>\n",
       "    </tr>\n",
       "    <tr>\n",
       "      <th>...</th>\n",
       "      <td>...</td>\n",
       "      <td>...</td>\n",
       "      <td>...</td>\n",
       "      <td>...</td>\n",
       "      <td>...</td>\n",
       "    </tr>\n",
       "    <tr>\n",
       "      <th>76521</th>\n",
       "      <td>71.0</td>\n",
       "      <td>37.0</td>\n",
       "      <td>18.90000</td>\n",
       "      <td>1605928831</td>\n",
       "      <td>2020-11-21 03:20:31</td>\n",
       "    </tr>\n",
       "    <tr>\n",
       "      <th>76522</th>\n",
       "      <td>71.0</td>\n",
       "      <td>37.0</td>\n",
       "      <td>19.00000</td>\n",
       "      <td>1605928835</td>\n",
       "      <td>2020-11-21 03:20:35</td>\n",
       "    </tr>\n",
       "    <tr>\n",
       "      <th>76523</th>\n",
       "      <td>71.0</td>\n",
       "      <td>37.0</td>\n",
       "      <td>19.30000</td>\n",
       "      <td>1605928844</td>\n",
       "      <td>2020-11-21 03:20:44</td>\n",
       "    </tr>\n",
       "    <tr>\n",
       "      <th>76524</th>\n",
       "      <td>71.0</td>\n",
       "      <td>37.0</td>\n",
       "      <td>19.00000</td>\n",
       "      <td>1605928854</td>\n",
       "      <td>2020-11-21 03:20:54</td>\n",
       "    </tr>\n",
       "    <tr>\n",
       "      <th>76525</th>\n",
       "      <td>71.0</td>\n",
       "      <td>37.0</td>\n",
       "      <td>19.00000</td>\n",
       "      <td>1605928864</td>\n",
       "      <td>2020-11-21 03:21:04</td>\n",
       "    </tr>\n",
       "  </tbody>\n",
       "</table>\n",
       "<p>76526 rows × 5 columns</p>\n",
       "</div>"
      ],
      "text/plain": [
       "       humidity   light  temperature   timestamp                date\n",
       "0          11.0  1020.8     35.20508  1603123105 2020-10-19 15:58:25\n",
       "1          12.0   544.0     19.61914  1603128973 2020-10-19 17:36:13\n",
       "2          12.0  1016.8     20.10742  1603129064 2020-10-19 17:37:44\n",
       "3          12.0    89.1     14.78516  1603129076 2020-10-19 17:37:56\n",
       "4          16.0    95.2     15.27344  1603134154 2020-10-19 19:02:34\n",
       "...         ...     ...          ...         ...                 ...\n",
       "76521      71.0    37.0     18.90000  1605928831 2020-11-21 03:20:31\n",
       "76522      71.0    37.0     19.00000  1605928835 2020-11-21 03:20:35\n",
       "76523      71.0    37.0     19.30000  1605928844 2020-11-21 03:20:44\n",
       "76524      71.0    37.0     19.00000  1605928854 2020-11-21 03:20:54\n",
       "76525      71.0    37.0     19.00000  1605928864 2020-11-21 03:21:04\n",
       "\n",
       "[76526 rows x 5 columns]"
      ]
     },
     "execution_count": 7,
     "metadata": {},
     "output_type": "execute_result"
    }
   ],
   "source": [
    "df['date'] = pd.to_datetime(df['timestamp'],unit='s', errors='coerce')\n",
    "df"
   ]
  },
  {
   "cell_type": "code",
   "execution_count": 8,
   "metadata": {},
   "outputs": [],
   "source": [
    "df2 = df[df['date'] > '2020-10-25 22:25:00']\n",
    "df2 = df2[df2['date'] < '2020-11-03 00:00:00']\n",
    "df2 = df2[df2['temperature'] < 100]"
   ]
  },
  {
   "cell_type": "code",
   "execution_count": 9,
   "metadata": {},
   "outputs": [
    {
     "data": {
      "text/html": [
       "<div>\n",
       "<style scoped>\n",
       "    .dataframe tbody tr th:only-of-type {\n",
       "        vertical-align: middle;\n",
       "    }\n",
       "\n",
       "    .dataframe tbody tr th {\n",
       "        vertical-align: top;\n",
       "    }\n",
       "\n",
       "    .dataframe thead th {\n",
       "        text-align: right;\n",
       "    }\n",
       "</style>\n",
       "<table border=\"1\" class=\"dataframe\">\n",
       "  <thead>\n",
       "    <tr style=\"text-align: right;\">\n",
       "      <th></th>\n",
       "      <th>humidity</th>\n",
       "      <th>light</th>\n",
       "      <th>temperature</th>\n",
       "      <th>timestamp</th>\n",
       "      <th>date</th>\n",
       "    </tr>\n",
       "  </thead>\n",
       "  <tbody>\n",
       "    <tr>\n",
       "      <th>166</th>\n",
       "      <td>55.0</td>\n",
       "      <td>64.0</td>\n",
       "      <td>23.6</td>\n",
       "      <td>1603666082</td>\n",
       "      <td>2020-10-25 22:48:02</td>\n",
       "    </tr>\n",
       "    <tr>\n",
       "      <th>167</th>\n",
       "      <td>54.0</td>\n",
       "      <td>65.0</td>\n",
       "      <td>23.6</td>\n",
       "      <td>1603666172</td>\n",
       "      <td>2020-10-25 22:49:32</td>\n",
       "    </tr>\n",
       "    <tr>\n",
       "      <th>168</th>\n",
       "      <td>54.0</td>\n",
       "      <td>62.0</td>\n",
       "      <td>23.6</td>\n",
       "      <td>1603666355</td>\n",
       "      <td>2020-10-25 22:52:35</td>\n",
       "    </tr>\n",
       "    <tr>\n",
       "      <th>169</th>\n",
       "      <td>54.0</td>\n",
       "      <td>61.0</td>\n",
       "      <td>23.6</td>\n",
       "      <td>1603666445</td>\n",
       "      <td>2020-10-25 22:54:05</td>\n",
       "    </tr>\n",
       "    <tr>\n",
       "      <th>170</th>\n",
       "      <td>54.0</td>\n",
       "      <td>60.0</td>\n",
       "      <td>23.6</td>\n",
       "      <td>1603666547</td>\n",
       "      <td>2020-10-25 22:55:47</td>\n",
       "    </tr>\n",
       "    <tr>\n",
       "      <th>...</th>\n",
       "      <td>...</td>\n",
       "      <td>...</td>\n",
       "      <td>...</td>\n",
       "      <td>...</td>\n",
       "      <td>...</td>\n",
       "    </tr>\n",
       "    <tr>\n",
       "      <th>71698</th>\n",
       "      <td>53.0</td>\n",
       "      <td>34.0</td>\n",
       "      <td>24.6</td>\n",
       "      <td>1604361558</td>\n",
       "      <td>2020-11-02 23:59:18</td>\n",
       "    </tr>\n",
       "    <tr>\n",
       "      <th>71699</th>\n",
       "      <td>53.0</td>\n",
       "      <td>34.0</td>\n",
       "      <td>24.6</td>\n",
       "      <td>1604361568</td>\n",
       "      <td>2020-11-02 23:59:28</td>\n",
       "    </tr>\n",
       "    <tr>\n",
       "      <th>71700</th>\n",
       "      <td>53.0</td>\n",
       "      <td>35.0</td>\n",
       "      <td>24.6</td>\n",
       "      <td>1604361578</td>\n",
       "      <td>2020-11-02 23:59:38</td>\n",
       "    </tr>\n",
       "    <tr>\n",
       "      <th>71701</th>\n",
       "      <td>53.0</td>\n",
       "      <td>34.0</td>\n",
       "      <td>24.6</td>\n",
       "      <td>1604361588</td>\n",
       "      <td>2020-11-02 23:59:48</td>\n",
       "    </tr>\n",
       "    <tr>\n",
       "      <th>71702</th>\n",
       "      <td>53.0</td>\n",
       "      <td>34.0</td>\n",
       "      <td>24.6</td>\n",
       "      <td>1604361598</td>\n",
       "      <td>2020-11-02 23:59:58</td>\n",
       "    </tr>\n",
       "  </tbody>\n",
       "</table>\n",
       "<p>68240 rows × 5 columns</p>\n",
       "</div>"
      ],
      "text/plain": [
       "       humidity  light  temperature   timestamp                date\n",
       "166        55.0   64.0         23.6  1603666082 2020-10-25 22:48:02\n",
       "167        54.0   65.0         23.6  1603666172 2020-10-25 22:49:32\n",
       "168        54.0   62.0         23.6  1603666355 2020-10-25 22:52:35\n",
       "169        54.0   61.0         23.6  1603666445 2020-10-25 22:54:05\n",
       "170        54.0   60.0         23.6  1603666547 2020-10-25 22:55:47\n",
       "...         ...    ...          ...         ...                 ...\n",
       "71698      53.0   34.0         24.6  1604361558 2020-11-02 23:59:18\n",
       "71699      53.0   34.0         24.6  1604361568 2020-11-02 23:59:28\n",
       "71700      53.0   35.0         24.6  1604361578 2020-11-02 23:59:38\n",
       "71701      53.0   34.0         24.6  1604361588 2020-11-02 23:59:48\n",
       "71702      53.0   34.0         24.6  1604361598 2020-11-02 23:59:58\n",
       "\n",
       "[68240 rows x 5 columns]"
      ]
     },
     "execution_count": 9,
     "metadata": {},
     "output_type": "execute_result"
    }
   ],
   "source": [
    "df2"
   ]
  },
  {
   "cell_type": "code",
   "execution_count": 10,
   "metadata": {},
   "outputs": [
    {
     "data": {
      "text/plain": [
       "62.0"
      ]
     },
     "execution_count": 10,
     "metadata": {},
     "output_type": "execute_result"
    }
   ],
   "source": [
    "df2['humidity'].max()"
   ]
  },
  {
   "cell_type": "code",
   "execution_count": 11,
   "metadata": {},
   "outputs": [],
   "source": [
    "plt.rcParams[\"figure.figsize\"] = (10,5)"
   ]
  },
  {
   "cell_type": "code",
   "execution_count": 12,
   "metadata": {
    "scrolled": true
   },
   "outputs": [
    {
     "data": {
      "image/png": "[encoded data removed]",
      "text/plain": [
       "<Figure size 720x360 with 1 Axes>"
      ]
     },
     "metadata": {
      "needs_background": "light"
     },
     "output_type": "display_data"
    }
   ],
   "source": [
    "#Temperatura\n",
    "ax1 = df2.plot(kind='scatter', x='date', y='temperature', color='b', label=\"temperatura (°C)\") \n",
    "\n",
    "ax1.legend()\n",
    "\n",
    "plt.xticks(rotation=-30)\n",
    "plt.savefig(\"temperatura_interior.pdf\")\n",
    "plt.show()"
   ]
  },
  {
   "cell_type": "code",
   "execution_count": 13,
   "metadata": {
    "scrolled": true
   },
   "outputs": [
    {
     "data": {
      "image/png": "[encoded data removed]",
      "text/plain": [
       "<Figure size 720x360 with 1 Axes>"
      ]
     },
     "metadata": {
      "needs_background": "light"
     },
     "output_type": "display_data"
    }
   ],
   "source": [
    "# Humedad\n",
    "ax1 = df2.plot(kind='scatter', x='date', y='humidity', color='r', label=\"humedad (%)\") \n",
    "\n",
    "ax1.legend()\n",
    "\n",
    "plt.xticks(rotation=-30)\n",
    "plt.savefig(\"humedad_interior.pdf\")\n",
    "plt.show()"
   ]
  },
  {
   "cell_type": "code",
   "execution_count": 14,
   "metadata": {},
   "outputs": [
    {
     "data": {
      "image/png": "[encoded data removed]",
      "text/plain": [
       "<Figure size 720x360 with 1 Axes>"
      ]
     },
     "metadata": {
      "needs_background": "light"
     },
     "output_type": "display_data"
    }
   ],
   "source": [
    "# Luz\n",
    "ax1 = df2.plot(kind='scatter', x='date', y='light', color='g',  label=\"luz (%)\") \n",
    "\n",
    "ax1.legend()\n",
    "\n",
    "plt.xticks(rotation=-30)\n",
    "plt.savefig(\"luz_interior.pdf\")\n",
    "plt.show()"
   ]
  },
  {
   "cell_type": "code",
   "execution_count": 15,
   "metadata": {},
   "outputs": [
    {
     "name": "stdout",
     "output_type": "stream",
     "text": [
      "21.245408851113716 21.1 0    21.4\n",
      "dtype: float64\n"
     ]
    }
   ],
   "source": [
    "#Temperatura\n",
    "media = df2[\"temperature\"].mean()\n",
    "mediana = df2[\"temperature\"].median()\n",
    "moda = df2[\"temperature\"].mode()\n",
    "print(media,mediana,moda)"
   ]
  },
  {
   "cell_type": "code",
   "execution_count": 16,
   "metadata": {},
   "outputs": [
    {
     "name": "stdout",
     "output_type": "stream",
     "text": [
      "52.95841398322482 53.0 0    55.0\n",
      "dtype: float64\n"
     ]
    }
   ],
   "source": [
    "#Humedad\n",
    "media = df2[\"humidity\"].mean()\n",
    "mediana = df2[\"humidity\"].median()\n",
    "moda = df2[\"humidity\"].mode()\n",
    "print(media,mediana,moda)"
   ]
  },
  {
   "cell_type": "code",
   "execution_count": 17,
   "metadata": {},
   "outputs": [
    {
     "name": "stdout",
     "output_type": "stream",
     "text": [
      "76.61641237596915 79.0 0    92.0\n",
      "dtype: float64\n"
     ]
    }
   ],
   "source": [
    "#Luz\n",
    "media = df2[\"light\"].mean()\n",
    "mediana = df2[\"light\"].median()\n",
    "moda = df2[\"light\"].mode()\n",
    "print(media,mediana,moda)"
   ]
  },
  {
   "cell_type": "code",
   "execution_count": null,
   "metadata": {},
   "outputs": [],
   "source": []
  }
 ],
 "metadata": {
  "kernelspec": {
   "display_name": "Python 3",
   "language": "python",
   "name": "python3"
  },
  "language_info": {
   "codemirror_mode": {
    "name": "ipython",
    "version": 3
   },
   "file_extension": ".py",
   "mimetype": "text/x-python",
   "name": "python",
   "nbconvert_exporter": "python",
   "pygments_lexer": "ipython3",
   "version": "3.8.5"
  }
 },
 "nbformat": 4,
 "nbformat_minor": 4
}
